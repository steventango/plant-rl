{
 "cells": [
  {
   "cell_type": "code",
   "execution_count": 7,
   "metadata": {},
   "outputs": [],
   "source": [
    "import pickle\n",
    "import lzma\n",
    "import numpy as np\n",
    "import os\n",
    "from typing import Any, Dict, List, Union\n",
    "\n",
    "\n",
    "def load_compressed_pickle(file_path: str) -> Any:\n",
    "    \"\"\"\n",
    "    Load a compressed pickle file (.pkl.xz)\n",
    "    \"\"\"\n",
    "    try:\n",
    "        with lzma.open(file_path, \"rb\") as f:\n",
    "            data = pickle.load(f)\n",
    "        return data\n",
    "    except Exception as e:\n",
    "        print(f\"Error loading file: {e}\")\n",
    "        return None"
   ]
  },
  {
   "cell_type": "code",
   "execution_count": null,
   "metadata": {},
   "outputs": [
    {
     "name": "stderr",
     "output_type": "stream",
     "text": [
      "WARNING:2025-09-16 11:53:24,692:jax._src.xla_bridge:969: An NVIDIA GPU may be present on this machine, but a CUDA-enabled jaxlib is not installed. Falling back to cpu.\n"
     ]
    }
   ],
   "source": [
    "data_path = \"../checkpoints/results/offline/A0/ConstantAgent/0/chk.pkl.xz\"\n",
    "\n",
    "# Load the data\n",
    "checkpoint_data = load_compressed_pickle(data_path)"
   ]
  },
  {
   "cell_type": "code",
   "execution_count": 9,
   "metadata": {},
   "outputs": [
    {
     "name": "stdout",
     "output_type": "stream",
     "text": [
      "[19.854048]\n"
     ]
    }
   ],
   "source": [
    "print(checkpoint_data[\"a\"].sensitivity.compute())"
   ]
  }
 ],
 "metadata": {
  "kernelspec": {
   "display_name": "ENV",
   "language": "python",
   "name": "python3"
  },
  "language_info": {
   "codemirror_mode": {
    "name": "ipython",
    "version": 3
   },
   "file_extension": ".py",
   "mimetype": "text/x-python",
   "name": "python",
   "nbconvert_exporter": "python",
   "pygments_lexer": "ipython3",
   "version": "3.12.3"
  }
 },
 "nbformat": 4,
 "nbformat_minor": 2
}
